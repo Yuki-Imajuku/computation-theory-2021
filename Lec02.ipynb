{
 "cells": [
  {
   "cell_type": "markdown",
   "metadata": {},
   "source": [
    "# ライブラリ"
   ]
  },
  {
   "cell_type": "code",
   "execution_count": 1,
   "metadata": {},
   "outputs": [],
   "source": [
    "import numpy as np\n",
    "from qiskit import ClassicalRegister, QuantumRegister, QuantumCircuit, Aer, transpile\n",
    "from qiskit.providers.aer import QasmSimulator\n",
    "from qiskit.quantum_info import Statevector, state_fidelity\n",
    "from qiskit.visualization import array_to_latex, plot_histogram"
   ]
  },
  {
   "cell_type": "markdown",
   "metadata": {},
   "source": [
    "# 超密度符号化"
   ]
  },
  {
   "cell_type": "markdown",
   "metadata": {},
   "source": [
    "### エンタングルメント状態の作成"
   ]
  },
  {
   "cell_type": "code",
   "execution_count": 2,
   "metadata": {},
   "outputs": [],
   "source": [
    "def entanglement() -> QuantumCircuit:\n",
    "    qr = QuantumRegister(2, name=\"qubit\")\n",
    "    qc = QuantumCircuit(qr)\n",
    "    qc.h(qr[0])\n",
    "    qc.cx(qr[0], qr[1])\n",
    "    return qc"
   ]
  },
  {
   "cell_type": "markdown",
   "metadata": {},
   "source": [
    "### Aliceのデータを送る"
   ]
  },
  {
   "cell_type": "code",
   "execution_count": 3,
   "metadata": {},
   "outputs": [],
   "source": [
    "def alice_data(data: int) -> QuantumCircuit:\n",
    "    qr = QuantumRegister(2, name=\"qubit\")\n",
    "    qc = QuantumCircuit(qr)\n",
    "    if data == 0:\n",
    "        pass\n",
    "    if data == 1:\n",
    "        qc.z(qr[0])\n",
    "    if data == 2:\n",
    "        qc.x(qr[0])\n",
    "    if data == 3:\n",
    "        qc.p(np.pi/2, qr[0])\n",
    "        qc.x(qr[0])\n",
    "        qc.p(np.pi/2, qr[0])\n",
    "        qc.x(qr[0])\n",
    "        qc.y(qr[0])\n",
    "    return qc"
   ]
  },
  {
   "cell_type": "markdown",
   "metadata": {},
   "source": [
    "### 状態の表現"
   ]
  },
  {
   "cell_type": "code",
   "execution_count": 4,
   "metadata": {},
   "outputs": [],
   "source": [
    "def bob_data(qc_state: Statevector) -> str:\n",
    "    p = np.zeros(4)\n",
    "    p[0] = state_fidelity([1/np.sqrt(2), 0, 0, 1/np.sqrt(2)], qc_state)\n",
    "    p[1] = state_fidelity([1/np.sqrt(2), 0, 0, -1/np.sqrt(2)], qc_state)\n",
    "    p[2] = state_fidelity([0, 1/np.sqrt(2), 1/np.sqrt(2), 0], qc_state)\n",
    "    p[3] = state_fidelity([0, 1/np.sqrt(2), -1/np.sqrt(2), 0], qc_state)\n",
    "    return f\"val: {p.argmax()}, p: {p.max()}\""
   ]
  },
  {
   "cell_type": "code",
   "execution_count": 5,
   "metadata": {},
   "outputs": [],
   "source": [
    "def alice_and_bob(data: int, measure: bool) -> QuantumCircuit:\n",
    "    qr = QuantumRegister(2, name=\"qubit\")\n",
    "    cr = ClassicalRegister(2, name=\"measure\")\n",
    "    qc = QuantumCircuit(qr, cr)\n",
    "    qc.append(entanglement(), qr)\n",
    "    qc.append(alice_data(data), qr)\n",
    "    if measure:\n",
    "        qc.measure(qr, cr[::-1])  # 表示した時に左から 0, 1, 2, ... としたい\n",
    "    return qc"
   ]
  },
  {
   "cell_type": "code",
   "execution_count": 6,
   "metadata": {},
   "outputs": [
    {
     "name": "stdout",
     "output_type": "stream",
     "text": [
      "val: 3, p: 0.9999999999999998\n"
     ]
    },
    {
     "data": {
      "text/latex": [
       "$$\n",
       "\n",
       "\\begin{bmatrix}\n",
       "0 & -\\tfrac{1}{\\sqrt{2}} & \\tfrac{1}{\\sqrt{2}} & 0  \\\\\n",
       " \\end{bmatrix}\n",
       "$$"
      ],
      "text/plain": [
       "<IPython.core.display.Latex object>"
      ]
     },
     "execution_count": 6,
     "metadata": {},
     "output_type": "execute_result"
    }
   ],
   "source": [
    "qc = alice_and_bob(3, measure=False)\n",
    "backend = Aer.get_backend('statevector_simulator')\n",
    "job = backend.run(transpile(qc, backend))\n",
    "qc_state = job.result().get_statevector(qc)\n",
    "print(bob_data(qc_state))\n",
    "array_to_latex(qc_state)"
   ]
  },
  {
   "cell_type": "markdown",
   "metadata": {},
   "source": [
    "### 観測 & 実行"
   ]
  },
  {
   "cell_type": "code",
   "execution_count": 7,
   "metadata": {},
   "outputs": [
    {
     "data": {
      "image/png": "[encoded data removed]",
      "text/plain": [
       "<Figure size 504x360 with 1 Axes>"
      ]
     },
     "execution_count": 7,
     "metadata": {},
     "output_type": "execute_result"
    }
   ],
   "source": [
    "qc = alice_and_bob(3, measure=True)\n",
    "backend = QasmSimulator()\n",
    "qc_compiled = transpile(qc, backend)\n",
    "job_sim = backend.run(qc_compiled, shots=1024)\n",
    "result_sim = job_sim.result()\n",
    "counts = result_sim.get_counts(qc_compiled)\n",
    "plot_histogram(counts)"
   ]
  }
 ],
 "metadata": {
  "interpreter": {
   "hash": "12f49ba3a463598281409b460afb737ea7d8af6abcaf64bed7fb8a8751760edb"
  },
  "kernelspec": {
   "display_name": "Python 3.7.10 64-bit ('base': conda)",
   "language": "python",
   "name": "python3"
  },
  "language_info": {
   "codemirror_mode": {
    "name": "ipython",
    "version": 3
   },
   "file_extension": ".py",
   "mimetype": "text/x-python",
   "name": "python",
   "nbconvert_exporter": "python",
   "pygments_lexer": "ipython3",
   "version": "3.7.10"
  },
  "orig_nbformat": 4
 },
 "nbformat": 4,
 "nbformat_minor": 2
}
