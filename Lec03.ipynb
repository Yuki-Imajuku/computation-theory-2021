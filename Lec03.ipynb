{
 "cells": [
  {
   "cell_type": "markdown",
   "metadata": {},
   "source": [
    "# ライブラリ"
   ]
  },
  {
   "cell_type": "code",
   "execution_count": 1,
   "metadata": {},
   "outputs": [],
   "source": [
    "import numpy as np\n",
    "from qiskit import ClassicalRegister, QuantumRegister, QuantumCircuit, transpile\n",
    "from qiskit.circuit.library import SXdgGate\n",
    "from qiskit.providers.aer import QasmSimulator\n",
    "from qiskit.visualization import plot_histogram"
   ]
  },
  {
   "cell_type": "markdown",
   "metadata": {},
   "source": [
    "# 制御U素子の実装"
   ]
  },
  {
   "cell_type": "markdown",
   "metadata": {},
   "source": [
    "## $Z-Y$分解\n",
    "$U = e^{i\\alpha} R_{z}(\\beta) R_{y}(\\gamma) R_{z}(\\delta)$ とした時、\n",
    "$\\left\\{\\begin{array}{l}\n",
    "A = R_{z}(\\beta) R_{y}\\left(\\frac{\\gamma}{2}\\right) \\\\\n",
    "B = R_{y}\\left(-\\frac{\\gamma}{2}\\right) R_{z}\\left(-\\frac{\\delta + \\beta}{2}\\right) \\\\\n",
    "C = R_{z}\\left(\\frac{\\delta - \\beta}{2}\\right)\n",
    "\\end{array}\\right.$\n",
    "とすることで、\n",
    "$\\left\\{\\begin{array}{c}\n",
    "ABC = \\mathbb{I} \\\\\n",
    "e^{i\\alpha} AXBXC = U\n",
    "\\end{array}\\right.$\n",
    "となることを用いて設計する。"
   ]
  },
  {
   "cell_type": "markdown",
   "metadata": {},
   "source": [
    "### 例：Hadamard変換\n",
    "\n",
    "$H = e^{\\frac{i\\pi}{2}} R_{z}\\left(\\frac{\\pi}{2}\\right) R_{y}\\left(\\frac{\\pi}{2}\\right) R_{z}\\left(\\frac{\\pi}{2}\\right)$\n",
    "より、\n",
    "$\\left\\{\\begin{array}{l}\n",
    "A = R_{z}\\left(\\frac{\\pi}{2}\\right) R_{y}\\left(\\frac{\\pi}{4}\\right) \\\\\n",
    "B = R_{y}\\left(-\\frac{\\pi}{4}\\right) R_{z}\\left(-\\frac{\\pi}{2}\\right) \\\\\n",
    "C = R_{z}\\left(0\\right)\n",
    "\\end{array}\\right.$"
   ]
  },
  {
   "cell_type": "code",
   "execution_count": 2,
   "metadata": {},
   "outputs": [
    {
     "data": {
      "text/plain": [
       "<qiskit.circuit.instructionset.InstructionSet at 0x7fd3ae77e460>"
      ]
     },
     "execution_count": 2,
     "metadata": {},
     "output_type": "execute_result"
    }
   ],
   "source": [
    "qr = QuantumRegister(2, name=\"qubit\")\n",
    "cr = ClassicalRegister(2, name=\"measure\")\n",
    "qc = QuantumCircuit(qr, cr)\n",
    "qc.h(qr[0])  # 初期化\n",
    "qc.rz(0, qr[1])  # C\n",
    "qc.cx(qr[0], qr[1])\n",
    "qc.rz(-np.pi/2, qr[1])  # B\n",
    "qc.ry(-np.pi/4, qr[1])  # B\n",
    "qc.cx(qr[0], qr[1])\n",
    "qc.ry(np.pi/4, qr[1])  # A\n",
    "qc.rz(np.pi/2, qr[1])  # A\n",
    "qc.p(np.pi/2, qr[0])  # P\n",
    "qc.measure(qr, cr[::-1])  # 表示した時左から順に qr[0], qr[1], ..."
   ]
  },
  {
   "cell_type": "markdown",
   "metadata": {},
   "source": [
    "### 回路図"
   ]
  },
  {
   "cell_type": "code",
   "execution_count": 3,
   "metadata": {},
   "outputs": [
    {
     "data": {
      "text/html": [
       "<pre style=\"word-wrap: normal;white-space: pre;background: #fff0;line-height: 1.1;font-family: &quot;Courier New&quot;,Courier,monospace\">             ┌───┐                                     ┌────────┐           ┌─┐»\n",
       "  qubit_0: ──┤ H ├────■────────────────────────────■───┤ P(π/2) ├───────────┤M├»\n",
       "           ┌─┴───┴─┐┌─┴─┐┌──────────┐┌──────────┐┌─┴─┐┌┴────────┤┌─────────┐└╥┘»\n",
       "  qubit_1: ┤ Rz(0) ├┤ X ├┤ Rz(-π/2) ├┤ Ry(-π/4) ├┤ X ├┤ Ry(π/4) ├┤ Rz(π/2) ├─╫─»\n",
       "           └───────┘└───┘└──────────┘└──────────┘└───┘└─────────┘└─────────┘ ║ »\n",
       "measure: 2/══════════════════════════════════════════════════════════════════╩═»\n",
       "                                                                             1 »\n",
       "«              \n",
       "«  qubit_0: ───\n",
       "«           ┌─┐\n",
       "«  qubit_1: ┤M├\n",
       "«           └╥┘\n",
       "«measure: 2/═╩═\n",
       "«            0 </pre>"
      ],
      "text/plain": [
       "             ┌───┐                                     ┌────────┐           ┌─┐»\n",
       "  qubit_0: ──┤ H ├────■────────────────────────────■───┤ P(π/2) ├───────────┤M├»\n",
       "           ┌─┴───┴─┐┌─┴─┐┌──────────┐┌──────────┐┌─┴─┐┌┴────────┤┌─────────┐└╥┘»\n",
       "  qubit_1: ┤ Rz(0) ├┤ X ├┤ Rz(-π/2) ├┤ Ry(-π/4) ├┤ X ├┤ Ry(π/4) ├┤ Rz(π/2) ├─╫─»\n",
       "           └───────┘└───┘└──────────┘└──────────┘└───┘└─────────┘└─────────┘ ║ »\n",
       "measure: 2/══════════════════════════════════════════════════════════════════╩═»\n",
       "                                                                             1 »\n",
       "«              \n",
       "«  qubit_0: ───\n",
       "«           ┌─┐\n",
       "«  qubit_1: ┤M├\n",
       "«           └╥┘\n",
       "«measure: 2/═╩═\n",
       "«            0 "
      ]
     },
     "execution_count": 3,
     "metadata": {},
     "output_type": "execute_result"
    }
   ],
   "source": [
    "qc.draw()"
   ]
  },
  {
   "cell_type": "markdown",
   "metadata": {},
   "source": [
    "###  実行\n",
    "$\\text{qubit}_{0} = 0$ の時には必ず $\\text{qubit}_{1} = 0$ となっている。\n",
    "\n",
    "一方で、 $\\text{qubit}_{0} = 1$ の時には $\\text{qubit}_{1} = 0$ と $\\text{qubit}_{1} = 1$ の確率が等しくなっている。\n",
    "\n",
    "すなわち、制御 H 素子が実装できている。"
   ]
  },
  {
   "cell_type": "code",
   "execution_count": 4,
   "metadata": {},
   "outputs": [
    {
     "data": {
      "image/png": "[encoded data removed]",
      "text/plain": [
       "<Figure size 504x360 with 1 Axes>"
      ]
     },
     "execution_count": 4,
     "metadata": {},
     "output_type": "execute_result"
    }
   ],
   "source": [
    "backend = QasmSimulator()\n",
    "qc_compiled = transpile(qc, backend)\n",
    "job_sim = backend.run(qc_compiled, shots=1024)\n",
    "result_sim = job_sim.result()\n",
    "counts = result_sim.get_counts(qc_compiled)\n",
    "plot_histogram(counts)"
   ]
  },
  {
   "cell_type": "markdown",
   "metadata": {},
   "source": [
    "## Toffoli 素子\n",
    "Controled SVdgGate が存在しなかったので、 $V^{\\dagger}V = \\mathbb{I}$ を利用"
   ]
  },
  {
   "cell_type": "code",
   "execution_count": 5,
   "metadata": {},
   "outputs": [
    {
     "data": {
      "text/plain": [
       "<qiskit.circuit.instructionset.InstructionSet at 0x7fd3b072baf0>"
      ]
     },
     "execution_count": 5,
     "metadata": {},
     "output_type": "execute_result"
    }
   ],
   "source": [
    "qr = QuantumRegister(3, name=\"qubit\")\n",
    "cr = ClassicalRegister(3, name=\"measure\")\n",
    "qc = QuantumCircuit(qr, cr)\n",
    "qc.h(qr[0:2])  # 初期化\n",
    "qc.csx(qr[0], qr[2])  # V\n",
    "qc.csx(qr[1], qr[2])  # V\n",
    "qc.cx(qr[0], qr[1])\n",
    "qc.append(SXdgGate(), qr[[2]])\n",
    "qc.csx(qr[1], qr[2], ctrl_state=\"0\")\n",
    "qc.cx(qr[0], qr[1])\n",
    "qc.measure(qr, cr[::-1])  # 表示した時左から順に qr[0], qr[1], ..."
   ]
  },
  {
   "cell_type": "markdown",
   "metadata": {},
   "source": [
    "### 回路図"
   ]
  },
  {
   "cell_type": "code",
   "execution_count": 6,
   "metadata": {},
   "outputs": [
    {
     "data": {
      "text/html": [
       "<pre style=\"word-wrap: normal;white-space: pre;background: #fff0;line-height: 1.1;font-family: &quot;Courier New&quot;,Courier,monospace\">           ┌───┐                               ┌─┐   \n",
       "  qubit_0: ┤ H ├──■────────────■────────────■──┤M├───\n",
       "           ├───┤  │          ┌─┴─┐        ┌─┴─┐└╥┘┌─┐\n",
       "  qubit_1: ┤ H ├──┼─────■────┤ X ├────o───┤ X ├─╫─┤M├\n",
       "           └───┘┌─┴──┐┌─┴──┐┌┴───┴─┐┌─┴──┐└┬─┬┘ ║ └╥┘\n",
       "  qubit_2: ─────┤ Sx ├┤ Sx ├┤ √Xdg ├┤ Sx ├─┤M├──╫──╫─\n",
       "                └────┘└────┘└──────┘└────┘ └╥┘  ║  ║ \n",
       "measure: 3/═════════════════════════════════╩═══╩══╩═\n",
       "                                            0   2  1 </pre>"
      ],
      "text/plain": [
       "           ┌───┐                               ┌─┐   \n",
       "  qubit_0: ┤ H ├──■────────────■────────────■──┤M├───\n",
       "           ├───┤  │          ┌─┴─┐        ┌─┴─┐└╥┘┌─┐\n",
       "  qubit_1: ┤ H ├──┼─────■────┤ X ├────o───┤ X ├─╫─┤M├\n",
       "           └───┘┌─┴──┐┌─┴──┐┌┴───┴─┐┌─┴──┐└┬─┬┘ ║ └╥┘\n",
       "  qubit_2: ─────┤ Sx ├┤ Sx ├┤ √Xdg ├┤ Sx ├─┤M├──╫──╫─\n",
       "                └────┘└────┘└──────┘└────┘ └╥┘  ║  ║ \n",
       "measure: 3/═════════════════════════════════╩═══╩══╩═\n",
       "                                            0   2  1 "
      ]
     },
     "execution_count": 6,
     "metadata": {},
     "output_type": "execute_result"
    }
   ],
   "source": [
    "qc.draw()"
   ]
  },
  {
   "cell_type": "markdown",
   "metadata": {},
   "source": [
    "### 実行\n",
    "$\\text{qubit}_{0} = 1 \\wedge \\text{qubit}_{1} = 1$ の時のみ $\\text{qubit}_{2} = 1$ となっている。\n",
    "\n",
    "すなわち、Toffoli 素子の実装ができている。"
   ]
  },
  {
   "cell_type": "code",
   "execution_count": 7,
   "metadata": {},
   "outputs": [
    {
     "data": {
      "image/png": "[encoded data removed]",
      "text/plain": [
       "<Figure size 504x360 with 1 Axes>"
      ]
     },
     "execution_count": 7,
     "metadata": {},
     "output_type": "execute_result"
    }
   ],
   "source": [
    "backend = QasmSimulator()\n",
    "qc_compiled = transpile(qc, backend)\n",
    "job_sim = backend.run(qc_compiled, shots=1024)\n",
    "result_sim = job_sim.result()\n",
    "counts = result_sim.get_counts(qc_compiled)\n",
    "plot_histogram(counts)"
   ]
  }
 ],
 "metadata": {
  "interpreter": {
   "hash": "12f49ba3a463598281409b460afb737ea7d8af6abcaf64bed7fb8a8751760edb"
  },
  "kernelspec": {
   "display_name": "Python 3.7.10 64-bit ('base': conda)",
   "language": "python",
   "name": "python3"
  },
  "language_info": {
   "codemirror_mode": {
    "name": "ipython",
    "version": 3
   },
   "file_extension": ".py",
   "mimetype": "text/x-python",
   "name": "python",
   "nbconvert_exporter": "python",
   "pygments_lexer": "ipython3",
   "version": "3.7.10"
  },
  "orig_nbformat": 4
 },
 "nbformat": 4,
 "nbformat_minor": 2
}
