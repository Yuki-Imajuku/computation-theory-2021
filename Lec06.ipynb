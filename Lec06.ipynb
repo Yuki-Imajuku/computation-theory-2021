{
 "cells": [
  {
   "cell_type": "markdown",
   "metadata": {},
   "source": [
    "# ライブラリ"
   ]
  },
  {
   "cell_type": "code",
   "execution_count": 1,
   "metadata": {},
   "outputs": [],
   "source": [
    "import numpy as np\n",
    "from qiskit import ClassicalRegister, QuantumRegister, QuantumCircuit, transpile\n",
    "from qiskit.circuit import Gate\n",
    "from qiskit.extensions import UnitaryGate\n",
    "from qiskit.providers.aer import QasmSimulator"
   ]
  },
  {
   "cell_type": "markdown",
   "metadata": {},
   "source": [
    "# Swap Test アルゴリズム"
   ]
  },
  {
   "cell_type": "markdown",
   "metadata": {},
   "source": [
    "### 正規化された2つの配列の準備"
   ]
  },
  {
   "cell_type": "code",
   "execution_count": 2,
   "metadata": {},
   "outputs": [],
   "source": [
    "N = 7\n",
    "vec_a = np.random.rand(N) * 2 - 1\n",
    "vec_a /= np.linalg.norm(vec_a)\n",
    "vec_b = np.random.rand(N) * 2 - 1\n",
    "vec_b /= np.linalg.norm(vec_b)"
   ]
  },
  {
   "cell_type": "markdown",
   "metadata": {},
   "source": [
    "### 用意された配列の確認"
   ]
  },
  {
   "cell_type": "code",
   "execution_count": 3,
   "metadata": {},
   "outputs": [
    {
     "name": "stdout",
     "output_type": "stream",
     "text": [
      "[-0.3137755   0.02689877  0.39371444  0.37934842 -0.54859149  0.53702283\n",
      "  0.1120668 ]\n",
      "[ 0.42808987  0.22280151 -0.14731029 -0.68897765 -0.38754682 -0.25751632\n",
      " -0.23281072]\n",
      "-0.3994694047489489\n"
     ]
    }
   ],
   "source": [
    "print(vec_a)\n",
    "print(vec_b)\n",
    "inner_product = np.dot(vec_a, vec_b)\n",
    "print(inner_product)"
   ]
  },
  {
   "cell_type": "markdown",
   "metadata": {},
   "source": [
    "### グラムシュミットの正規直交化法"
   ]
  },
  {
   "cell_type": "code",
   "execution_count": 4,
   "metadata": {},
   "outputs": [],
   "source": [
    "def ceil_log2(N: int) -> int:\n",
    "    retval = 0\n",
    "    tmp = 1\n",
    "    while tmp < N:\n",
    "        tmp *= 2\n",
    "        retval += 1\n",
    "    return retval\n",
    "\n",
    "\n",
    "def make_unitary_matrix(N: int, vec: np.ndarray) -> np.ndarray:\n",
    "    n = ceil_log2(N)\n",
    "    retmat = np.zeros((2**n, 2**n))\n",
    "    retmat[:N, 0] = vec\n",
    "    for i in range(1, N):\n",
    "        tmp = np.zeros(N)\n",
    "        tmp[i] = 1\n",
    "        for j in range(i):\n",
    "            tmp -= np.dot(tmp, retmat[:N, j]) * retmat[:N, j]\n",
    "        retmat[:N, i] = tmp / np.linalg.norm(tmp)\n",
    "    for i in range(N, 2**n):\n",
    "        retmat[i, i] = 1\n",
    "    return retmat"
   ]
  },
  {
   "cell_type": "markdown",
   "metadata": {},
   "source": [
    "### 振幅符号化の実装"
   ]
  },
  {
   "cell_type": "code",
   "execution_count": 5,
   "metadata": {},
   "outputs": [],
   "source": [
    "def amplitude_coding(N: int, vec: np.ndarray, label: str = \"\") -> Gate:\n",
    "    n = ceil_log2(N)\n",
    "    qr = QuantumRegister(n)\n",
    "    qc = QuantumCircuit(qr, name=f\"encoding{label}\")\n",
    "    arr = make_unitary_matrix(N, vec)\n",
    "    qc.append(UnitaryGate(arr), qr)\n",
    "    return qc.to_gate(label=f\"encoding{label}\")"
   ]
  },
  {
   "cell_type": "markdown",
   "metadata": {},
   "source": [
    "### Swap Test アルゴリズムの実装"
   ]
  },
  {
   "cell_type": "code",
   "execution_count": 6,
   "metadata": {},
   "outputs": [],
   "source": [
    "def controlled_swap_gate(n) -> Gate:\n",
    "    qr_ancillary = QuantumRegister(1)\n",
    "    qr_a = QuantumRegister(n)\n",
    "    qr_b = QuantumRegister(n)\n",
    "    qc = QuantumCircuit(qr_ancillary, qr_a, qr_b)\n",
    "    for i in range(n):\n",
    "        qc.ccx(qr_ancillary, qr_a[i], qr_b[i])\n",
    "        qc.ccx(qr_ancillary, qr_b[i], qr_a[i])\n",
    "        qc.ccx(qr_ancillary, qr_a[i], qr_b[i])\n",
    "    return qc.to_gate(label=\"swap\")\n",
    "\n",
    "\n",
    "def swap_test(N: int, vec_a: np.ndarray, vec_b: np.ndarray) -> QuantumCircuit:\n",
    "    n = ceil_log2(N)\n",
    "    qr_ancillary = QuantumRegister(1, name=\"ancillary\")\n",
    "    qr_a = QuantumRegister(n, name=\"data_a\")\n",
    "    qr_b = QuantumRegister(n, name=\"data_b\")\n",
    "    cr = ClassicalRegister(1, name=\"measure\")\n",
    "    qc = QuantumCircuit(qr_ancillary, qr_a, qr_b, cr)\n",
    "\n",
    "    qc.append(amplitude_coding(N, vec_a, \" a\"), qr_a)\n",
    "    qc.append(amplitude_coding(N, vec_b, \" b\"), qr_b)\n",
    "    qc.h(qr_ancillary)\n",
    "    qc.append(controlled_swap_gate(n), qr_ancillary[:]+qr_a[:]+qr_b[:])\n",
    "    qc.h(qr_ancillary)\n",
    "    \n",
    "    qc.measure(qr_ancillary, cr)\n",
    "    return qc"
   ]
  },
  {
   "cell_type": "markdown",
   "metadata": {},
   "source": [
    "### Swap Test アルゴリズムの実行結果処理"
   ]
  },
  {
   "cell_type": "code",
   "execution_count": 7,
   "metadata": {},
   "outputs": [],
   "source": [
    "def inner_product_from_result(result: dict) -> float:\n",
    "    count = result[\"0\"] + result[\"1\"]\n",
    "    p = result[\"0\"] / count\n",
    "    return 2*p - 1"
   ]
  },
  {
   "cell_type": "markdown",
   "metadata": {},
   "source": [
    "### 回路図"
   ]
  },
  {
   "cell_type": "code",
   "execution_count": 8,
   "metadata": {},
   "outputs": [
    {
     "data": {
      "text/html": [
       "<pre style=\"word-wrap: normal;white-space: pre;background: #fff0;line-height: 1.1;font-family: &quot;Courier New&quot;,Courier,monospace\">                ┌───┐     ┌───────┐┌───┐┌─┐\n",
       "ancillary: ─────┤ H ├─────┤0      ├┤ H ├┤M├\n",
       "           ┌────┴───┴────┐│       │└───┘└╥┘\n",
       " data_a_0: ┤0            ├┤1      ├──────╫─\n",
       "           │             ││       │      ║ \n",
       " data_a_1: ┤1 encoding a ├┤2      ├──────╫─\n",
       "           │             ││       │      ║ \n",
       " data_a_2: ┤2            ├┤3 swap ├──────╫─\n",
       "           ├─────────────┤│       │      ║ \n",
       " data_b_0: ┤0            ├┤4      ├──────╫─\n",
       "           │             ││       │      ║ \n",
       " data_b_1: ┤1 encoding b ├┤5      ├──────╫─\n",
       "           │             ││       │      ║ \n",
       " data_b_2: ┤2            ├┤6      ├──────╫─\n",
       "           └─────────────┘└───────┘      ║ \n",
       "measure: 1/══════════════════════════════╩═\n",
       "                                         0 </pre>"
      ],
      "text/plain": [
       "                ┌───┐     ┌───────┐┌───┐┌─┐\n",
       "ancillary: ─────┤ H ├─────┤0      ├┤ H ├┤M├\n",
       "           ┌────┴───┴────┐│       │└───┘└╥┘\n",
       " data_a_0: ┤0            ├┤1      ├──────╫─\n",
       "           │             ││       │      ║ \n",
       " data_a_1: ┤1 encoding a ├┤2      ├──────╫─\n",
       "           │             ││       │      ║ \n",
       " data_a_2: ┤2            ├┤3 swap ├──────╫─\n",
       "           ├─────────────┤│       │      ║ \n",
       " data_b_0: ┤0            ├┤4      ├──────╫─\n",
       "           │             ││       │      ║ \n",
       " data_b_1: ┤1 encoding b ├┤5      ├──────╫─\n",
       "           │             ││       │      ║ \n",
       " data_b_2: ┤2            ├┤6      ├──────╫─\n",
       "           └─────────────┘└───────┘      ║ \n",
       "measure: 1/══════════════════════════════╩═\n",
       "                                         0 "
      ]
     },
     "execution_count": 8,
     "metadata": {},
     "output_type": "execute_result"
    }
   ],
   "source": [
    "qc_swap_test = swap_test(N, vec_a, vec_b)\n",
    "qc_swap_test.draw()"
   ]
  },
  {
   "cell_type": "markdown",
   "metadata": {},
   "source": [
    "### 実行"
   ]
  },
  {
   "cell_type": "code",
   "execution_count": 9,
   "metadata": {},
   "outputs": [
    {
     "name": "stdout",
     "output_type": "stream",
     "text": [
      "true |inner product|^2: 0.1596\n",
      "calc |inner product|^2: 0.1570\n"
     ]
    }
   ],
   "source": [
    "backend = QasmSimulator()\n",
    "qc_compiled = transpile(qc_swap_test, backend)\n",
    "job_sim = backend.run(qc_compiled, shots=8192)\n",
    "result_sim = job_sim.result()\n",
    "counts = result_sim.get_counts(qc_compiled)\n",
    "swap_test_ip = inner_product_from_result(counts)\n",
    "print(f\"true |inner product|^2: {inner_product**2:.4f}\")\n",
    "print(f\"calc |inner product|^2: {swap_test_ip:.4f}\")"
   ]
  },
  {
   "cell_type": "markdown",
   "metadata": {},
   "source": [
    "# 改良後 Swap Test アルゴリズム"
   ]
  },
  {
   "cell_type": "markdown",
   "metadata": {},
   "source": [
    "### 改良後 Swap Test アルゴリズムの実装"
   ]
  },
  {
   "cell_type": "code",
   "execution_count": 10,
   "metadata": {},
   "outputs": [],
   "source": [
    "def swap_test_2(N: int, vec_a: np.ndarray, vec_b: np.ndarray) -> QuantumCircuit:\n",
    "    n = ceil_log2(N)\n",
    "    qr_ancillary = QuantumRegister(1, name=\"ancillary\")\n",
    "    qr = QuantumRegister(n, name=\"data\")\n",
    "    cr = ClassicalRegister(1, name=\"measure\")\n",
    "    qc = QuantumCircuit(qr_ancillary, qr, cr)\n",
    "\n",
    "    qc.h(qr_ancillary)\n",
    "    qc.append(amplitude_coding(N, vec_a, \" a\").control(1), qr_ancillary[:]+qr[:])\n",
    "    qc.x(qr_ancillary)\n",
    "    qc.append(amplitude_coding(N, vec_b, \" b\").control(1), qr_ancillary[:]+qr[:])\n",
    "    qc.h(qr_ancillary)\n",
    "    \n",
    "    qc.measure(qr_ancillary, cr)\n",
    "    return qc"
   ]
  },
  {
   "cell_type": "markdown",
   "metadata": {},
   "source": [
    "### 回路図"
   ]
  },
  {
   "cell_type": "code",
   "execution_count": 11,
   "metadata": {},
   "outputs": [
    {
     "data": {
      "text/html": [
       "<pre style=\"word-wrap: normal;white-space: pre;background: #fff0;line-height: 1.1;font-family: &quot;Courier New&quot;,Courier,monospace\">           ┌───┐               ┌───┐               ┌───┐┌─┐\n",
       "ancillary: ┤ H ├───────■───────┤ X ├───────■───────┤ H ├┤M├\n",
       "           └───┘┌──────┴──────┐└───┘┌──────┴──────┐└───┘└╥┘\n",
       "   data_0: ─────┤0            ├─────┤0            ├──────╫─\n",
       "                │             │     │             │      ║ \n",
       "   data_1: ─────┤1 encoding a ├─────┤1 encoding b ├──────╫─\n",
       "                │             │     │             │      ║ \n",
       "   data_2: ─────┤2            ├─────┤2            ├──────╫─\n",
       "                └─────────────┘     └─────────────┘      ║ \n",
       "measure: 1/══════════════════════════════════════════════╩═\n",
       "                                                         0 </pre>"
      ],
      "text/plain": [
       "           ┌───┐               ┌───┐               ┌───┐┌─┐\n",
       "ancillary: ┤ H ├───────■───────┤ X ├───────■───────┤ H ├┤M├\n",
       "           └───┘┌──────┴──────┐└───┘┌──────┴──────┐└───┘└╥┘\n",
       "   data_0: ─────┤0            ├─────┤0            ├──────╫─\n",
       "                │             │     │             │      ║ \n",
       "   data_1: ─────┤1 encoding a ├─────┤1 encoding b ├──────╫─\n",
       "                │             │     │             │      ║ \n",
       "   data_2: ─────┤2            ├─────┤2            ├──────╫─\n",
       "                └─────────────┘     └─────────────┘      ║ \n",
       "measure: 1/══════════════════════════════════════════════╩═\n",
       "                                                         0 "
      ]
     },
     "execution_count": 11,
     "metadata": {},
     "output_type": "execute_result"
    }
   ],
   "source": [
    "qc_swap_test_2 = swap_test_2(N, vec_a, vec_b)\n",
    "qc_swap_test_2.draw()"
   ]
  },
  {
   "cell_type": "markdown",
   "metadata": {},
   "source": [
    "### 実行"
   ]
  },
  {
   "cell_type": "code",
   "execution_count": 12,
   "metadata": {},
   "outputs": [
    {
     "name": "stdout",
     "output_type": "stream",
     "text": [
      "true inner product: -0.3995\n",
      "calc inner product: -0.4033\n"
     ]
    }
   ],
   "source": [
    "backend = QasmSimulator()\n",
    "qc_compiled = transpile(qc_swap_test_2, backend)\n",
    "job_sim = backend.run(qc_compiled, shots=8192)\n",
    "result_sim = job_sim.result()\n",
    "counts = result_sim.get_counts(qc_compiled)\n",
    "swap_test_ip_2 = inner_product_from_result(counts)\n",
    "print(f\"true inner product: {inner_product:.4f}\")\n",
    "print(f\"calc inner product: {swap_test_ip_2:.4f}\")"
   ]
  },
  {
   "cell_type": "code",
   "execution_count": null,
   "metadata": {},
   "outputs": [],
   "source": []
  }
 ],
 "metadata": {
  "interpreter": {
   "hash": "12f49ba3a463598281409b460afb737ea7d8af6abcaf64bed7fb8a8751760edb"
  },
  "kernelspec": {
   "display_name": "Python 3.7.10 64-bit ('base': conda)",
   "language": "python",
   "name": "python3"
  },
  "language_info": {
   "codemirror_mode": {
    "name": "ipython",
    "version": 3
   },
   "file_extension": ".py",
   "mimetype": "text/x-python",
   "name": "python",
   "nbconvert_exporter": "python",
   "pygments_lexer": "ipython3",
   "version": "3.7.10"
  },
  "orig_nbformat": 4
 },
 "nbformat": 4,
 "nbformat_minor": 2
}
