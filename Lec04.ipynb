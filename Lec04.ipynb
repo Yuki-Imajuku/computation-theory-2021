{
 "cells": [
  {
   "cell_type": "markdown",
   "metadata": {},
   "source": [
    "# ライブラリ"
   ]
  },
  {
   "cell_type": "code",
   "execution_count": 1,
   "metadata": {},
   "outputs": [],
   "source": [
    "from typing import Tuple\n",
    "import fractions\n",
    "import numpy as np\n",
    "from qiskit import ClassicalRegister, QuantumRegister, QuantumCircuit, transpile\n",
    "from qiskit.circuit import Gate\n",
    "from qiskit.circuit.library import MCXGate\n",
    "from qiskit.extensions import UnitaryGate\n",
    "from qiskit.providers.aer import QasmSimulator\n",
    "from qiskit.visualization import plot_histogram"
   ]
  },
  {
   "cell_type": "markdown",
   "metadata": {},
   "source": [
    "# 目次\n",
    "1. [Deutsch-Jozsa アルゴリズム](#deutsch-jozsa-アルゴリズム)\n",
    "2. [Grover アルゴリズム](#grover-アルゴリズム)\n",
    "3. [Shor アルゴリズム](#shor-アルゴリズム)\n",
    "4. [素因数分解問題](#素因数分解問題)"
   ]
  },
  {
   "cell_type": "markdown",
   "metadata": {},
   "source": [
    "# Deutsch-Jozsa アルゴリズム"
   ]
  },
  {
   "cell_type": "markdown",
   "metadata": {},
   "source": [
    "### オラクル $f$ の実装"
   ]
  },
  {
   "cell_type": "code",
   "execution_count": 2,
   "metadata": {},
   "outputs": [],
   "source": [
    "def oracle_dj(n: int, balanced: bool) -> Gate:\n",
    "    qr = QuantumRegister(n+1)\n",
    "    qc = QuantumCircuit(qr)\n",
    "    if balanced:\n",
    "        ones_list = np.random.choice(range(2**n), 2**(n-1), replace=False)\n",
    "        for ind in ones_list:\n",
    "            ind_bin = np.binary_repr(ind).zfill(n)\n",
    "            qc.append(MCXGate(n, ctrl_state=ind_bin), qr)\n",
    "    return qc.to_gate(label=\"Oracle\")"
   ]
  },
  {
   "cell_type": "markdown",
   "metadata": {},
   "source": [
    "### Deutsch-Jozsa アルゴリズムの実装"
   ]
  },
  {
   "cell_type": "code",
   "execution_count": 3,
   "metadata": {},
   "outputs": [],
   "source": [
    "def deutsch_jozsa(n: int, balanced: bool) -> QuantumCircuit:\n",
    "    qr = QuantumRegister(n+1, name=\"qubit\")\n",
    "    cr = ClassicalRegister(n, name=\"measure\")\n",
    "    qc = QuantumCircuit(qr, cr)\n",
    "\n",
    "    # Step 1\n",
    "    qc.x(qr[n])\n",
    "\n",
    "    # Step 2\n",
    "    qc.h(qr)\n",
    "\n",
    "    # Step 3\n",
    "    qc.append(oracle_dj(n, balanced), qr)\n",
    "\n",
    "    # Step4\n",
    "    qc.h(qr[:n])\n",
    "\n",
    "    # Step5\n",
    "    qc.measure(qr[:n], cr[::-1])  # 表示した時左から順に qr[0], qr[1], ...\n",
    "\n",
    "    return qc"
   ]
  },
  {
   "cell_type": "markdown",
   "metadata": {},
   "source": [
    "### 回路図"
   ]
  },
  {
   "cell_type": "code",
   "execution_count": 4,
   "metadata": {},
   "outputs": [
    {
     "data": {
      "text/html": [
       "<pre style=\"word-wrap: normal;white-space: pre;background: #fff0;line-height: 1.1;font-family: &quot;Courier New&quot;,Courier,monospace\">           ┌───┐     ┌─────────┐┌───┐┌─┐         \n",
       "  qubit_0: ┤ H ├─────┤0        ├┤ H ├┤M├─────────\n",
       "           ├───┤     │         │├───┤└╥┘┌─┐      \n",
       "  qubit_1: ┤ H ├─────┤1        ├┤ H ├─╫─┤M├──────\n",
       "           ├───┤     │         │├───┤ ║ └╥┘┌─┐   \n",
       "  qubit_2: ┤ H ├─────┤2 Oracle ├┤ H ├─╫──╫─┤M├───\n",
       "           ├───┤     │         │├───┤ ║  ║ └╥┘┌─┐\n",
       "  qubit_3: ┤ H ├─────┤3        ├┤ H ├─╫──╫──╫─┤M├\n",
       "           ├───┤┌───┐│         │└───┘ ║  ║  ║ └╥┘\n",
       "  qubit_4: ┤ X ├┤ H ├┤4        ├──────╫──╫──╫──╫─\n",
       "           └───┘└───┘└─────────┘      ║  ║  ║  ║ \n",
       "measure: 4/═══════════════════════════╩══╩══╩══╩═\n",
       "                                      3  2  1  0 </pre>"
      ],
      "text/plain": [
       "           ┌───┐     ┌─────────┐┌───┐┌─┐         \n",
       "  qubit_0: ┤ H ├─────┤0        ├┤ H ├┤M├─────────\n",
       "           ├───┤     │         │├───┤└╥┘┌─┐      \n",
       "  qubit_1: ┤ H ├─────┤1        ├┤ H ├─╫─┤M├──────\n",
       "           ├───┤     │         │├───┤ ║ └╥┘┌─┐   \n",
       "  qubit_2: ┤ H ├─────┤2 Oracle ├┤ H ├─╫──╫─┤M├───\n",
       "           ├───┤     │         │├───┤ ║  ║ └╥┘┌─┐\n",
       "  qubit_3: ┤ H ├─────┤3        ├┤ H ├─╫──╫──╫─┤M├\n",
       "           ├───┤┌───┐│         │└───┘ ║  ║  ║ └╥┘\n",
       "  qubit_4: ┤ X ├┤ H ├┤4        ├──────╫──╫──╫──╫─\n",
       "           └───┘└───┘└─────────┘      ║  ║  ║  ║ \n",
       "measure: 4/═══════════════════════════╩══╩══╩══╩═\n",
       "                                      3  2  1  0 "
      ]
     },
     "execution_count": 4,
     "metadata": {},
     "output_type": "execute_result"
    }
   ],
   "source": [
    "qc_const = deutsch_jozsa(4, False)\n",
    "qc_balanced = deutsch_jozsa(4, True)\n",
    "qc_balanced.draw()"
   ]
  },
  {
   "cell_type": "markdown",
   "metadata": {},
   "source": [
    "### 実行"
   ]
  },
  {
   "cell_type": "markdown",
   "metadata": {},
   "source": [
    "定数関数の場合、 $\\left|0000\\right>$ のみが観測される。"
   ]
  },
  {
   "cell_type": "code",
   "execution_count": 5,
   "metadata": {},
   "outputs": [
    {
     "data": {
      "image/png": "[encoded data removed]",
      "text/plain": [
       "<Figure size 504x360 with 1 Axes>"
      ]
     },
     "execution_count": 5,
     "metadata": {},
     "output_type": "execute_result"
    }
   ],
   "source": [
    "backend_const = QasmSimulator()\n",
    "qc_const_compiled = transpile(qc_const, backend_const)\n",
    "job_sim_const = backend_const.run(qc_const_compiled, shots=1024)\n",
    "result_sim_const = job_sim_const.result()\n",
    "counts_const = result_sim_const.get_counts(qc_const_compiled)\n",
    "plot_histogram(counts_const)"
   ]
  },
  {
   "cell_type": "markdown",
   "metadata": {},
   "source": [
    "バランス関数の場合、オラクル $f$ によって確率分布は変わってしまうが、 $\\left|0000\\right>$ が観測されることはない。"
   ]
  },
  {
   "cell_type": "code",
   "execution_count": 6,
   "metadata": {},
   "outputs": [
    {
     "data": {
      "image/png": "[encoded data removed]",
      "text/plain": [
       "<Figure size 504x360 with 1 Axes>"
      ]
     },
     "execution_count": 6,
     "metadata": {},
     "output_type": "execute_result"
    }
   ],
   "source": [
    "backend_balanced = QasmSimulator()\n",
    "qc_balanced_compiled = transpile(qc_balanced, backend_balanced)\n",
    "job_sim_balanced = backend_balanced.run(qc_balanced_compiled, shots=1024)\n",
    "result_sim_balanced = job_sim_balanced.result()\n",
    "counts_balanced = result_sim_balanced.get_counts(qc_balanced_compiled)\n",
    "plot_histogram(counts_balanced)"
   ]
  },
  {
   "cell_type": "markdown",
   "metadata": {},
   "source": [
    "# Grover アルゴリズム"
   ]
  },
  {
   "cell_type": "markdown",
   "metadata": {},
   "source": [
    "### オラクル $f$ の実装"
   ]
  },
  {
   "cell_type": "code",
   "execution_count": 7,
   "metadata": {},
   "outputs": [],
   "source": [
    "def oracle_g(n: int) -> Gate:\n",
    "    qr = QuantumRegister(n+1)\n",
    "    qc = QuantumCircuit(qr)\n",
    "    ind = np.random.randint(0, 2**n)\n",
    "    ind_bin = np.binary_repr(ind).zfill(n)\n",
    "    qc.append(MCXGate(n, ctrl_state=ind_bin), qr)\n",
    "    return qc.to_gate(label=f\"Oracle \\\"{ind_bin[::-1]}\\\"\")"
   ]
  },
  {
   "cell_type": "markdown",
   "metadata": {},
   "source": [
    "### Grover 拡散行列 $D_N$ の実装"
   ]
  },
  {
   "cell_type": "code",
   "execution_count": 8,
   "metadata": {},
   "outputs": [],
   "source": [
    "def diffusion_matrix(n: int) -> Gate:\n",
    "    qr = QuantumRegister(n)\n",
    "    qc = QuantumCircuit(qr)\n",
    "    mat = np.ones((2**n, 2**n)) * 2 / (2**n)\n",
    "    mat[range(2**n), range(2**n)] -= 1\n",
    "    qc.append(UnitaryGate(mat), qr)\n",
    "    return qc.to_gate(label=\"Diffusion Matrix\")"
   ]
  },
  {
   "cell_type": "markdown",
   "metadata": {},
   "source": [
    "### Grover アルゴリズムの実装"
   ]
  },
  {
   "cell_type": "code",
   "execution_count": 9,
   "metadata": {},
   "outputs": [],
   "source": [
    "def grover(n: int) -> QuantumCircuit:\n",
    "    qr = QuantumRegister(n+1, name=\"qubit\")\n",
    "    cr = ClassicalRegister(n, name=\"measure\")\n",
    "    qc = QuantumCircuit(qr, cr)\n",
    "    oracle_gate = oracle_g(n)\n",
    "\n",
    "    # Step 0\n",
    "    qc.x(qr[n])\n",
    "\n",
    "    # Step 1\n",
    "    qc.h(qr)\n",
    "\n",
    "    # Step 2\n",
    "    theta = np.arcsin(np.sqrt(1 / 2**n))\n",
    "\n",
    "    for _ in range(int(np.floor(np.pi / (4 * theta)))):\n",
    "        qc.append(oracle_gate, qr)  # Step 3\n",
    "        qc.append(diffusion_matrix(n), qr[:n])  # Step 4\n",
    "    \n",
    "    # Step 5\n",
    "    qc.measure(qr[:n], cr[::-1])  # 表示した時左から順に qr[0], qr[1], ...\n",
    "    return qc"
   ]
  },
  {
   "cell_type": "markdown",
   "metadata": {},
   "source": [
    "### 回路図"
   ]
  },
  {
   "cell_type": "code",
   "execution_count": 10,
   "metadata": {},
   "outputs": [
    {
     "data": {
      "text/html": [
       "<pre style=\"word-wrap: normal;white-space: pre;background: #fff0;line-height: 1.1;font-family: &quot;Courier New&quot;,Courier,monospace\">           ┌───┐     ┌────────────────┐┌───────────────────┐┌────────────────┐»\n",
       "  qubit_0: ┤ H ├─────┤0               ├┤0                  ├┤0               ├»\n",
       "           ├───┤     │                ││                   ││                │»\n",
       "  qubit_1: ┤ H ├─────┤1               ├┤1                  ├┤1               ├»\n",
       "           ├───┤     │                ││  Diffusion Matrix ││                │»\n",
       "  qubit_2: ┤ H ├─────┤2 Oracle \"1110\" ├┤2                  ├┤2 Oracle \"1110\" ├»\n",
       "           ├───┤     │                ││                   ││                │»\n",
       "  qubit_3: ┤ H ├─────┤3               ├┤3                  ├┤3               ├»\n",
       "           ├───┤┌───┐│                │└───────────────────┘│                │»\n",
       "  qubit_4: ┤ X ├┤ H ├┤4               ├─────────────────────┤4               ├»\n",
       "           └───┘└───┘└────────────────┘                     └────────────────┘»\n",
       "measure: 4/═══════════════════════════════════════════════════════════════════»\n",
       "                                                                              »\n",
       "«           ┌───────────────────┐┌────────────────┐┌───────────────────┐┌─┐   »\n",
       "«  qubit_0: ┤0                  ├┤0               ├┤0                  ├┤M├───»\n",
       "«           │                   ││                ││                   │└╥┘┌─┐»\n",
       "«  qubit_1: ┤1                  ├┤1               ├┤1                  ├─╫─┤M├»\n",
       "«           │  Diffusion Matrix ││                ││  Diffusion Matrix │ ║ └╥┘»\n",
       "«  qubit_2: ┤2                  ├┤2 Oracle \"1110\" ├┤2                  ├─╫──╫─»\n",
       "«           │                   ││                ││                   │ ║  ║ »\n",
       "«  qubit_3: ┤3                  ├┤3               ├┤3                  ├─╫──╫─»\n",
       "«           └───────────────────┘│                │└───────────────────┘ ║  ║ »\n",
       "«  qubit_4: ─────────────────────┤4               ├──────────────────────╫──╫─»\n",
       "«                                └────────────────┘                      ║  ║ »\n",
       "«measure: 4/═════════════════════════════════════════════════════════════╩══╩═»\n",
       "«                                                                        3  2 »\n",
       "«                 \n",
       "«  qubit_0: ──────\n",
       "«                 \n",
       "«  qubit_1: ──────\n",
       "«           ┌─┐   \n",
       "«  qubit_2: ┤M├───\n",
       "«           └╥┘┌─┐\n",
       "«  qubit_3: ─╫─┤M├\n",
       "«            ║ └╥┘\n",
       "«  qubit_4: ─╫──╫─\n",
       "«            ║  ║ \n",
       "«measure: 4/═╩══╩═\n",
       "«            1  0 </pre>"
      ],
      "text/plain": [
       "           ┌───┐     ┌────────────────┐┌───────────────────┐┌────────────────┐»\n",
       "  qubit_0: ┤ H ├─────┤0               ├┤0                  ├┤0               ├»\n",
       "           ├───┤     │                ││                   ││                │»\n",
       "  qubit_1: ┤ H ├─────┤1               ├┤1                  ├┤1               ├»\n",
       "           ├───┤     │                ││  Diffusion Matrix ││                │»\n",
       "  qubit_2: ┤ H ├─────┤2 Oracle \"1110\" ├┤2                  ├┤2 Oracle \"1110\" ├»\n",
       "           ├───┤     │                ││                   ││                │»\n",
       "  qubit_3: ┤ H ├─────┤3               ├┤3                  ├┤3               ├»\n",
       "           ├───┤┌───┐│                │└───────────────────┘│                │»\n",
       "  qubit_4: ┤ X ├┤ H ├┤4               ├─────────────────────┤4               ├»\n",
       "           └───┘└───┘└────────────────┘                     └────────────────┘»\n",
       "measure: 4/═══════════════════════════════════════════════════════════════════»\n",
       "                                                                              »\n",
       "«           ┌───────────────────┐┌────────────────┐┌───────────────────┐┌─┐   »\n",
       "«  qubit_0: ┤0                  ├┤0               ├┤0                  ├┤M├───»\n",
       "«           │                   ││                ││                   │└╥┘┌─┐»\n",
       "«  qubit_1: ┤1                  ├┤1               ├┤1                  ├─╫─┤M├»\n",
       "«           │  Diffusion Matrix ││                ││  Diffusion Matrix │ ║ └╥┘»\n",
       "«  qubit_2: ┤2                  ├┤2 Oracle \"1110\" ├┤2                  ├─╫──╫─»\n",
       "«           │                   ││                ││                   │ ║  ║ »\n",
       "«  qubit_3: ┤3                  ├┤3               ├┤3                  ├─╫──╫─»\n",
       "«           └───────────────────┘│                │└───────────────────┘ ║  ║ »\n",
       "«  qubit_4: ─────────────────────┤4               ├──────────────────────╫──╫─»\n",
       "«                                └────────────────┘                      ║  ║ »\n",
       "«measure: 4/═════════════════════════════════════════════════════════════╩══╩═»\n",
       "«                                                                        3  2 »\n",
       "«                 \n",
       "«  qubit_0: ──────\n",
       "«                 \n",
       "«  qubit_1: ──────\n",
       "«           ┌─┐   \n",
       "«  qubit_2: ┤M├───\n",
       "«           └╥┘┌─┐\n",
       "«  qubit_3: ─╫─┤M├\n",
       "«            ║ └╥┘\n",
       "«  qubit_4: ─╫──╫─\n",
       "«            ║  ║ \n",
       "«measure: 4/═╩══╩═\n",
       "«            1  0 "
      ]
     },
     "execution_count": 10,
     "metadata": {},
     "output_type": "execute_result"
    }
   ],
   "source": [
    "qc_grover = grover(4)\n",
    "qc_grover.draw()"
   ]
  },
  {
   "cell_type": "markdown",
   "metadata": {},
   "source": [
    "### 実行\n",
    "上記の回路図の `Oracle` の横に、正解となるビット列を記載してある。\n",
    "\n",
    "実行結果を見ると、正解ラベルのところだけ観測される確率が非常に高くなっている様子が見て取れる。"
   ]
  },
  {
   "cell_type": "code",
   "execution_count": 11,
   "metadata": {},
   "outputs": [
    {
     "data": {
      "image/png": "[encoded data removed]",
      "text/plain": [
       "<Figure size 504x360 with 1 Axes>"
      ]
     },
     "execution_count": 11,
     "metadata": {},
     "output_type": "execute_result"
    }
   ],
   "source": [
    "backend_grover = QasmSimulator()\n",
    "qc_grover_compiled = transpile(qc_grover, backend_grover)\n",
    "job_sim_grover = backend_grover.run(qc_grover_compiled, shots=1024)\n",
    "result_sim_grover = job_sim_grover.result()\n",
    "counts_grover = result_sim_grover.get_counts(qc_grover_compiled)\n",
    "plot_histogram(counts_grover)"
   ]
  },
  {
   "cell_type": "markdown",
   "metadata": {},
   "source": [
    "# Shor アルゴリズム"
   ]
  },
  {
   "cell_type": "markdown",
   "metadata": {},
   "source": [
    "### 汎用関数の実装"
   ]
  },
  {
   "cell_type": "code",
   "execution_count": 12,
   "metadata": {},
   "outputs": [],
   "source": [
    "def calc_order(a: int, N: int) -> int:\n",
    "    tmp = 1\n",
    "    for i in range(1, N):\n",
    "        tmp *= a\n",
    "        tmp %= N\n",
    "        if tmp == 1:\n",
    "            return i\n",
    "\n",
    "\n",
    "def ceil_log2(N: int) -> int:\n",
    "    retval = 0\n",
    "    tmp = 1\n",
    "    while tmp < N:\n",
    "        tmp *= 2\n",
    "        retval += 1\n",
    "    return retval\n",
    "\n",
    "\n",
    "def parse_result(result: dict) -> dict:\n",
    "    retval = {}\n",
    "    for key, val in result.items():\n",
    "        _, key2 = key.split()\n",
    "        if key2 in retval:\n",
    "            retval[key2] += val\n",
    "        else:\n",
    "            retval[key2] = val\n",
    "    return retval\n",
    "\n",
    "\n",
    "def guess_period(result: dict, N):\n",
    "    guessed = {}\n",
    "    count = 0\n",
    "    for key, val in result.items():\n",
    "        if count == 0:\n",
    "            pow2 = 2 ** len(key)\n",
    "        phase = int(key, 2) / pow2\n",
    "        frac = fractions.Fraction(phase).limit_denominator(N)\n",
    "        if frac.denominator in guessed:\n",
    "            guessed[frac.denominator] += val\n",
    "        else:\n",
    "            guessed[frac.denominator] = val\n",
    "    retval = -1\n",
    "    tmpmax = 0\n",
    "    for r, p in guessed.items():\n",
    "        if tmpmax < p:\n",
    "            retval = r\n",
    "            tmpmax = p\n",
    "    return retval"
   ]
  },
  {
   "cell_type": "markdown",
   "metadata": {},
   "source": [
    "### 周期を発見したい関数の実装\n",
    "具体的には、 $f(x) = a^x \\mod{N}$ で、 $f(r) = 1$ となる最小の整数 $r$ を求める。\n",
    "\n",
    "$a$ を掛ける処理のユニタリーゲートに対応する $U$ の実装について、 $U_{f}$ のサイズは、使用するqubit数を $n$ とした時に $2^{n} \\times 2^{n}$ となるが、\n",
    "\n",
    "$\\left\\{\\begin{array}{rl}\n",
    "U_{(ai \\mod{N}), i} = 1 & (i < N)\\\\\n",
    "U_{i, i} = 1 & (i \\geqq N)\n",
    "\\end{array}\\right.$ \n",
    "\n",
    "とすれば実現できる。これがユニタリー行列となることは容易に示せる。\n",
    "\n",
    "Qiskit では、0ビット目が0, 1ビット目が0, 2ビット目が1 の時、 $\\left|001\\right> = \\left|1\\right>\\otimes\\left|0\\right>\\otimes\\left|0\\right>$ と表すことに注意。"
   ]
  },
  {
   "cell_type": "code",
   "execution_count": 13,
   "metadata": {},
   "outputs": [],
   "source": [
    "def time_a_matrix(a: int, N: int) -> np.ndarray:\n",
    "    n = ceil_log2(N)\n",
    "    retmat = np.zeros((2**n, 2**n))\n",
    "    for i in range(2**n):\n",
    "        if i >= N:\n",
    "            ind_bin = np.binary_repr(i).zfill(n)\n",
    "        else:\n",
    "            ind_bin = np.binary_repr(a*i%N).zfill(n)\n",
    "        retmat[int(ind_bin, 2), i] = 1\n",
    "    return retmat\n",
    "\n",
    "\n",
    "def periodic_function(a: int, N: int, additional: int) -> QuantumCircuit:\n",
    "    n = ceil_log2(N)\n",
    "    qr1 = QuantumRegister(n+additional)\n",
    "    qr2 = QuantumRegister(n)\n",
    "    qc = QuantumCircuit(qr1, qr2)\n",
    "\n",
    "    unitary_matrix = time_a_matrix(a, N)  # times a (mod N)\n",
    "    for i in range(n+additional):\n",
    "        tmp_gate = UnitaryGate(unitary_matrix).control(1)\n",
    "        qc.append(tmp_gate, qr1[[i]]+qr2[:])\n",
    "        unitary_matrix = np.dot(unitary_matrix, unitary_matrix)\n",
    "    return qc.to_gate(label=\"f\")"
   ]
  },
  {
   "cell_type": "markdown",
   "metadata": {},
   "source": [
    "### 量子フーリエ変換 (QFT) の実装\n",
    "こちらも参照 $\\rightarrow$ [Qiskit](https://qiskit.org/textbook/ja/ch-algorithms/shor.html)"
   ]
  },
  {
   "cell_type": "code",
   "execution_count": 14,
   "metadata": {},
   "outputs": [],
   "source": [
    "def qft_dagger(n: int) -> Gate:\n",
    "    qr = QuantumRegister(n)\n",
    "    qc = QuantumCircuit(qr)\n",
    "    for i in range(n//2):\n",
    "        qc.swap(qr[i], qr[n-1-i])\n",
    "    for i in range(n):\n",
    "        for j in range(i):\n",
    "            qc.cp(-np.pi/float(2**(i-j)), qr[j], qr[i])\n",
    "        qc.h(qr[i])\n",
    "    return qc.to_gate(label=\"QFT†\")"
   ]
  },
  {
   "cell_type": "markdown",
   "metadata": {},
   "source": [
    "### Shor アルゴリズムの実装"
   ]
  },
  {
   "cell_type": "code",
   "execution_count": 15,
   "metadata": {},
   "outputs": [],
   "source": [
    "def shor(a: int, N: int, additional: int = 0) -> QuantumCircuit:\n",
    "    assert(np.gcd(a, N) == 1)\n",
    "    n = ceil_log2(N)\n",
    "    qr1 = QuantumRegister(n+additional, name=\"qubit-1\")\n",
    "    qr2 = QuantumRegister(n, name=\"qubit-2\")\n",
    "    cr1 = ClassicalRegister(n+additional, name=\"measure-1\")\n",
    "    cr2 = ClassicalRegister(n, name=\"measure-2\")\n",
    "    qc = QuantumCircuit(qr1, qr2, cr1, cr2)\n",
    "\n",
    "    # Step 1\n",
    "    qc.h(qr1)\n",
    "    qc.x(qr2[0])\n",
    "\n",
    "    # Step 2\n",
    "    qc.append(periodic_function(a, N, additional), qr1[:]+qr2[:])\n",
    "\n",
    "    # Step 3\n",
    "    qc.measure(qr2, cr2)\n",
    "\n",
    "    # Step 4\n",
    "    qc.append(qft_dagger(n+additional), qr1)\n",
    "    qc.measure(qr1, cr1)\n",
    "\n",
    "    return qc"
   ]
  },
  {
   "cell_type": "markdown",
   "metadata": {},
   "source": [
    "### 回路図\n",
    "$additional$ な qubit を増やすことによって、計算量は多くなってしまうが、より細かな位相の差異まで分けることができるので、より精度のよい周期予測が可能となる。\n",
    "特に、周期が 2 の階乗とならない場合に恩恵を受けることとなる。（講義資料で言うところの最後の補足のページ）以下のコードの $additional$ の値を 0 として実行してみると、違う結果が得られるだろう。"
   ]
  },
  {
   "cell_type": "code",
   "execution_count": 16,
   "metadata": {},
   "outputs": [
    {
     "data": {
      "text/html": [
       "<pre style=\"word-wrap: normal;white-space: pre;background: #fff0;line-height: 1.1;font-family: &quot;Courier New&quot;,Courier,monospace\">             ┌───┐┌─────┐┌───────┐         ┌─┐                  \n",
       "  qubit-1_0: ┤ H ├┤0    ├┤0      ├─────────┤M├──────────────────\n",
       "             ├───┤│     ││       │         └╥┘┌─┐               \n",
       "  qubit-1_1: ┤ H ├┤1    ├┤1      ├──────────╫─┤M├───────────────\n",
       "             ├───┤│     ││       │          ║ └╥┘┌─┐            \n",
       "  qubit-1_2: ┤ H ├┤2    ├┤2      ├──────────╫──╫─┤M├────────────\n",
       "             ├───┤│     ││       │          ║  ║ └╥┘┌─┐         \n",
       "  qubit-1_3: ┤ H ├┤3    ├┤3 QFT† ├──────────╫──╫──╫─┤M├─────────\n",
       "             ├───┤│     ││       │          ║  ║  ║ └╥┘┌─┐      \n",
       "  qubit-1_4: ┤ H ├┤4    ├┤4      ├──────────╫──╫──╫──╫─┤M├──────\n",
       "             ├───┤│     ││       │          ║  ║  ║  ║ └╥┘┌─┐   \n",
       "  qubit-1_5: ┤ H ├┤5  f ├┤5      ├──────────╫──╫──╫──╫──╫─┤M├───\n",
       "             ├───┤│     ││       │          ║  ║  ║  ║  ║ └╥┘┌─┐\n",
       "  qubit-1_6: ┤ H ├┤6    ├┤6      ├──────────╫──╫──╫──╫──╫──╫─┤M├\n",
       "             ├───┤│     │└──┬─┬──┘          ║  ║  ║  ║  ║  ║ └╥┘\n",
       "  qubit-2_0: ┤ X ├┤7    ├───┤M├─────────────╫──╫──╫──╫──╫──╫──╫─\n",
       "             └───┘│     │   └╥┘   ┌─┐       ║  ║  ║  ║  ║  ║  ║ \n",
       "  qubit-2_1: ─────┤8    ├────╫────┤M├───────╫──╫──╫──╫──╫──╫──╫─\n",
       "                  │     │    ║    └╥┘┌─┐    ║  ║  ║  ║  ║  ║  ║ \n",
       "  qubit-2_2: ─────┤9    ├────╫─────╫─┤M├────╫──╫──╫──╫──╫──╫──╫─\n",
       "                  │     │    ║     ║ └╥┘┌─┐ ║  ║  ║  ║  ║  ║  ║ \n",
       "  qubit-2_3: ─────┤10   ├────╫─────╫──╫─┤M├─╫──╫──╫──╫──╫──╫──╫─\n",
       "                  └─────┘    ║     ║  ║ └╥┘ ║  ║  ║  ║  ║  ║  ║ \n",
       "measure-1: 7/════════════════╬═════╬══╬══╬══╩══╩══╩══╩══╩══╩══╩═\n",
       "                             ║     ║  ║  ║  0  1  2  3  4  5  6 \n",
       "                             ║     ║  ║  ║                      \n",
       "measure-2: 4/════════════════╩═════╩══╩══╩══════════════════════\n",
       "                             0     1  2  3                      </pre>"
      ],
      "text/plain": [
       "             ┌───┐┌─────┐┌───────┐         ┌─┐                  \n",
       "  qubit-1_0: ┤ H ├┤0    ├┤0      ├─────────┤M├──────────────────\n",
       "             ├───┤│     ││       │         └╥┘┌─┐               \n",
       "  qubit-1_1: ┤ H ├┤1    ├┤1      ├──────────╫─┤M├───────────────\n",
       "             ├───┤│     ││       │          ║ └╥┘┌─┐            \n",
       "  qubit-1_2: ┤ H ├┤2    ├┤2      ├──────────╫──╫─┤M├────────────\n",
       "             ├───┤│     ││       │          ║  ║ └╥┘┌─┐         \n",
       "  qubit-1_3: ┤ H ├┤3    ├┤3 QFT† ├──────────╫──╫──╫─┤M├─────────\n",
       "             ├───┤│     ││       │          ║  ║  ║ └╥┘┌─┐      \n",
       "  qubit-1_4: ┤ H ├┤4    ├┤4      ├──────────╫──╫──╫──╫─┤M├──────\n",
       "             ├───┤│     ││       │          ║  ║  ║  ║ └╥┘┌─┐   \n",
       "  qubit-1_5: ┤ H ├┤5  f ├┤5      ├──────────╫──╫──╫──╫──╫─┤M├───\n",
       "             ├───┤│     ││       │          ║  ║  ║  ║  ║ └╥┘┌─┐\n",
       "  qubit-1_6: ┤ H ├┤6    ├┤6      ├──────────╫──╫──╫──╫──╫──╫─┤M├\n",
       "             ├───┤│     │└──┬─┬──┘          ║  ║  ║  ║  ║  ║ └╥┘\n",
       "  qubit-2_0: ┤ X ├┤7    ├───┤M├─────────────╫──╫──╫──╫──╫──╫──╫─\n",
       "             └───┘│     │   └╥┘   ┌─┐       ║  ║  ║  ║  ║  ║  ║ \n",
       "  qubit-2_1: ─────┤8    ├────╫────┤M├───────╫──╫──╫──╫──╫──╫──╫─\n",
       "                  │     │    ║    └╥┘┌─┐    ║  ║  ║  ║  ║  ║  ║ \n",
       "  qubit-2_2: ─────┤9    ├────╫─────╫─┤M├────╫──╫──╫──╫──╫──╫──╫─\n",
       "                  │     │    ║     ║ └╥┘┌─┐ ║  ║  ║  ║  ║  ║  ║ \n",
       "  qubit-2_3: ─────┤10   ├────╫─────╫──╫─┤M├─╫──╫──╫──╫──╫──╫──╫─\n",
       "                  └─────┘    ║     ║  ║ └╥┘ ║  ║  ║  ║  ║  ║  ║ \n",
       "measure-1: 7/════════════════╬═════╬══╬══╬══╩══╩══╩══╩══╩══╩══╩═\n",
       "                             ║     ║  ║  ║  0  1  2  3  4  5  6 \n",
       "                             ║     ║  ║  ║                      \n",
       "measure-2: 4/════════════════╩═════╩══╩══╩══════════════════════\n",
       "                             0     1  2  3                      "
      ]
     },
     "execution_count": 16,
     "metadata": {},
     "output_type": "execute_result"
    }
   ],
   "source": [
    "a, N, additional = 9, 14, 3\n",
    "qc_shor = shor(a, N, additional)\n",
    "qc_shor.draw()"
   ]
  },
  {
   "cell_type": "markdown",
   "metadata": {},
   "source": [
    "### 実行"
   ]
  },
  {
   "cell_type": "code",
   "execution_count": 17,
   "metadata": {},
   "outputs": [
    {
     "data": {
      "image/png": "[encoded data removed]",
      "text/plain": [
       "<Figure size 864x288 with 1 Axes>"
      ]
     },
     "execution_count": 17,
     "metadata": {},
     "output_type": "execute_result"
    }
   ],
   "source": [
    "backend_shor = QasmSimulator()\n",
    "qc_shor_compiled = transpile(qc_shor, backend_shor)\n",
    "job_sim_shor = backend_shor.run(qc_shor_compiled, shots=2048)\n",
    "result_sim_shor = job_sim_shor.result()\n",
    "counts_shor = result_sim_shor.get_counts(qc_shor_compiled)\n",
    "plot_histogram(parse_result(counts_shor), figsize=(12, 4))"
   ]
  },
  {
   "cell_type": "markdown",
   "metadata": {},
   "source": [
    "### 予測された周期"
   ]
  },
  {
   "cell_type": "code",
   "execution_count": 18,
   "metadata": {},
   "outputs": [
    {
     "data": {
      "text/plain": [
       "3"
      ]
     },
     "execution_count": 18,
     "metadata": {},
     "output_type": "execute_result"
    }
   ],
   "source": [
    "guess_period(parse_result(counts_shor), N)"
   ]
  },
  {
   "cell_type": "markdown",
   "metadata": {},
   "source": [
    "### 実際の周期\n",
    "例えば、 $a = 9, N = 14$ のとき、 $r = 3 (9, 11, 1, \\cdots)$ となる。"
   ]
  },
  {
   "cell_type": "code",
   "execution_count": 19,
   "metadata": {},
   "outputs": [
    {
     "data": {
      "text/plain": [
       "3"
      ]
     },
     "execution_count": 19,
     "metadata": {},
     "output_type": "execute_result"
    }
   ],
   "source": [
    "calc_order(a, N)"
   ]
  },
  {
   "cell_type": "markdown",
   "metadata": {},
   "source": [
    "# 素因数分解問題"
   ]
  },
  {
   "cell_type": "code",
   "execution_count": 20,
   "metadata": {},
   "outputs": [],
   "source": [
    "def execute_shor(a: int, N: int, additional: int = 0) -> int:\n",
    "    qc = shor(a, N, additional)\n",
    "    backend = QasmSimulator()\n",
    "    qc_compiled = transpile(qc, backend)\n",
    "    job_sim = backend.run(qc_compiled, shots=1024)\n",
    "    result_sim = job_sim.result()\n",
    "    counts = result_sim.get_counts(qc_compiled)\n",
    "    return guess_period(parse_result(counts), N)\n",
    "\n",
    "\n",
    "def prime_factorization(N: int, additional: int = 0) -> Tuple[int, int]:\n",
    "    retval = []\n",
    "    used = set([])\n",
    "    while True:\n",
    "        if len(used) == N-1:\n",
    "            print(\"can't find\")\n",
    "            break\n",
    "        x = np.random.randint(1, N)\n",
    "        if x in used:\n",
    "            continue  # 重複はもったいないので\n",
    "        used.add(x)\n",
    "        if np.gcd(x, N) == 1:\n",
    "            r = execute_shor(x, N, additional)\n",
    "            if r % 2 == 0:\n",
    "                kp = x ** (r // 2) + 1\n",
    "                p = np.gcd(kp, N)\n",
    "                if p < N:\n",
    "                    q = N // p\n",
    "                    print(f\"N = {p} x {q}\\t(x = {x}, r = {r})\")\n",
    "                    if r != calc_order(x, N):\n",
    "                        print(f\"true r = {calc_order(x, N)}\")\n",
    "                    break"
   ]
  },
  {
   "cell_type": "markdown",
   "metadata": {},
   "source": [
    "### 実行\n",
    "計算には数分から数十分かかることもある。\n",
    "\n",
    "$additional$ の値を 3 程度とすれば、 位数が $r = 3$ といった場合でも間違った値が算出されてしまうことが少なくなると思う。(例えば、 `prime_factorization(21, 0)` などとすると、 $x = 16$ の時に $r = 3$ となるが、shorのアルゴリズムでは $r = 20$ と計算されてしまう。)\n",
    "\n",
    "(素数) $\\times$ (素数) となる数を入れることを推奨。\n",
    "\n",
    "計算時間的に 15 以下の数を入れることを推奨。(でもそれだと 15 くらいしか試せない)"
   ]
  },
  {
   "cell_type": "code",
   "execution_count": 21,
   "metadata": {},
   "outputs": [
    {
     "name": "stdout",
     "output_type": "stream",
     "text": [
      "N = 7 x 3\t(x = 10, r = 6)\n"
     ]
    }
   ],
   "source": [
    "prime_factorization(21, 3)"
   ]
  }
 ],
 "metadata": {
  "interpreter": {
   "hash": "12f49ba3a463598281409b460afb737ea7d8af6abcaf64bed7fb8a8751760edb"
  },
  "kernelspec": {
   "display_name": "Python 3.7.10 64-bit ('base': conda)",
   "language": "python",
   "name": "python3"
  },
  "language_info": {
   "codemirror_mode": {
    "name": "ipython",
    "version": 3
   },
   "file_extension": ".py",
   "mimetype": "text/x-python",
   "name": "python",
   "nbconvert_exporter": "python",
   "pygments_lexer": "ipython3",
   "version": "3.7.10"
  },
  "orig_nbformat": 4
 },
 "nbformat": 4,
 "nbformat_minor": 2
}
