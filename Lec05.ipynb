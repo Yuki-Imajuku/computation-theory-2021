{
 "cells": [
  {
   "cell_type": "markdown",
   "metadata": {},
   "source": [
    "# ライブラリ"
   ]
  },
  {
   "cell_type": "code",
   "execution_count": 1,
   "metadata": {},
   "outputs": [],
   "source": [
    "from IPython.display import Latex, display\n",
    "import numpy as np\n",
    "from qiskit import ClassicalRegister, QuantumRegister, QuantumCircuit, Aer, transpile\n",
    "from qiskit.circuit import Gate\n",
    "from qiskit.extensions import MCXGate, UnitaryGate\n",
    "from qiskit.visualization import array_to_latex, plot_histogram\n",
    "from qiskit.providers.aer import QasmSimulator"
   ]
  },
  {
   "cell_type": "markdown",
   "metadata": {},
   "source": [
    "# 計算基底符号化"
   ]
  },
  {
   "cell_type": "markdown",
   "metadata": {},
   "source": [
    "### 2進符号化\n",
    "$(-1.0, 1.0)$ の範囲の数を $digit$ 桁の精度で二進小数に変換"
   ]
  },
  {
   "cell_type": "code",
   "execution_count": 2,
   "metadata": {},
   "outputs": [],
   "source": [
    "def binary_encoding(x: float, digit: int) -> str:\n",
    "    bin = \"\"\n",
    "    if x < 0:\n",
    "        bin += \"1\"\n",
    "        x *= -1\n",
    "    else:\n",
    "        bin += \"0\"\n",
    "    for _ in range(digit-1):\n",
    "        x *= 2\n",
    "        if x >= 1:\n",
    "            bin += \"1\"\n",
    "            x -= 1\n",
    "        else:\n",
    "            bin += \"0\"\n",
    "    return bin"
   ]
  },
  {
   "cell_type": "markdown",
   "metadata": {},
   "source": [
    "### 入力重ね合わせ状態の準備\n",
    "$\\displaystyle\\left|\\mathcal{D}\\right> = \\frac{1}{\\sqrt{M}}\\sum_{m=1}^{M}\\left|\\bm{x}^{m}\\right>$ という状態を、使用するqubitの数 $N$ とデータ数 $M$ に関して線形の時間で用意\n",
    "\n",
    "$\\left|l_1, l_2, \\dots, l_N; a_1, a_2; s_1, s_2, \\dots, s_N\\right>$ という $2N+2$ 個のqubitを用いて作成"
   ]
  },
  {
   "cell_type": "code",
   "execution_count": 3,
   "metadata": {},
   "outputs": [],
   "source": [
    "def write_data(x: float, N: int, inverse: bool) -> Gate:\n",
    "    qr_load = QuantumRegister(N)\n",
    "    qc = QuantumCircuit(qr_load)\n",
    "    bin = binary_encoding(x, N)\n",
    "    for i, bit in enumerate(bin):\n",
    "        if bit == \"1\":\n",
    "            qc.x(qr_load[i])\n",
    "    if inverse:\n",
    "        return qc.inverse().to_gate(label=\"load data ^(-1)\")\n",
    "    return qc.to_gate(label=\"load data\")\n",
    "\n",
    "\n",
    "def copy_data(N: int, inverse: bool) -> Gate:\n",
    "    qr_load = QuantumRegister(N)\n",
    "    qr_store = QuantumRegister(N)\n",
    "    qc = QuantumCircuit(qr_load, qr_store)\n",
    "    for i in range(N):\n",
    "        qc.cx(qr_load[i], qr_store[i])\n",
    "    if inverse:\n",
    "        return qc.inverse().to_gate(label=\"copy data ^(-1)\")\n",
    "    return qc.to_gate(label=\"copy data\")\n",
    "\n",
    "\n",
    "def all_same(N: int, inverse: bool) -> Gate:\n",
    "    qr_load = QuantumRegister(N)\n",
    "    qr_ancillary = QuantumRegister(2)\n",
    "    qr_store = QuantumRegister(N)\n",
    "    qc = QuantumCircuit(qr_load, qr_ancillary, qr_store)\n",
    "    for i in range(N):\n",
    "        qc.cx(qr_load[i], qr_store[i])\n",
    "        qc.x(qr_store[i])\n",
    "    qc.append(MCXGate(N), qr_store[:]+qr_ancillary[[0]])\n",
    "    if inverse:\n",
    "        return qc.inverse().to_gate(label=\"all same ^(-1)\")\n",
    "    return qc.to_gate(label=\"all same\")\n",
    "\n",
    "\n",
    "def input_superposition(X: np.ndarray, M: int, N: int, measure: bool) -> QuantumCircuit:\n",
    "    qr_load = QuantumRegister(N, name=\"load\")\n",
    "    qr_ancillary = QuantumRegister(2, name=\"ancillary\")\n",
    "    qr_store = QuantumRegister(N, name=\"store\")\n",
    "    cr = ClassicalRegister(N, name=\"measure\")\n",
    "    qc = QuantumCircuit(qr_load, qr_ancillary, qr_store, cr)\n",
    "\n",
    "    qc.x(qr_ancillary[1])\n",
    "    for i in range(M):\n",
    "        mu = M - i\n",
    "        U = [[np.sqrt((mu-1) / mu), 1/np.sqrt(mu)], [-1/np.sqrt(mu), np.sqrt((mu-1) / mu)]]\n",
    "        unitary_gate = UnitaryGate(U).control(1)\n",
    "        qc.append(write_data(X[i], N, False), qr_load)\n",
    "        qc.append(copy_data(N, False).control(1), qr_ancillary[[1]]+qr_load[:]+qr_store[:])\n",
    "        qc.append(all_same(N, False), qr_load[:]+qr_ancillary[:]+qr_store[:])\n",
    "        qc.append(unitary_gate, qr_ancillary)\n",
    "        qc.append(all_same(N, True), qr_load[:]+qr_ancillary[:]+qr_store[:])\n",
    "        qc.append(copy_data(N, True).control(1), qr_ancillary[[1]]+qr_load[:]+qr_store[:])\n",
    "        qc.append(write_data(X[i], N, True), qr_load)\n",
    "    if measure:\n",
    "        qc.measure(qr_store, cr[::-1])\n",
    "    return qc"
   ]
  },
  {
   "cell_type": "markdown",
   "metadata": {},
   "source": [
    "### 回路図\n",
    "出力が長いので省略 (コメントアウト)"
   ]
  },
  {
   "cell_type": "code",
   "execution_count": 4,
   "metadata": {},
   "outputs": [],
   "source": [
    "N = 5\n",
    "M = 8\n",
    "X = np.random.rand(M) * 2 - 1\n",
    "qc = input_superposition(X, M, N, False)\n",
    "# qc.draw()"
   ]
  },
  {
   "cell_type": "markdown",
   "metadata": {},
   "source": [
    "### 回路シミュレーション"
   ]
  },
  {
   "cell_type": "code",
   "execution_count": 5,
   "metadata": {},
   "outputs": [],
   "source": [
    "backend = Aer.get_backend('statevector_simulator')\n",
    "job = backend.run(transpile(qc, backend))\n",
    "qc_state = job.result().get_statevector(qc)"
   ]
  },
  {
   "cell_type": "markdown",
   "metadata": {},
   "source": [
    "### 確認\n",
    "$x_i (i=1\\dots M)$ に重複があるとおかしくなってしまうが、原因は不明"
   ]
  },
  {
   "cell_type": "code",
   "execution_count": 6,
   "metadata": {},
   "outputs": [],
   "source": [
    "def display_state(state: np.ndarray, N: int) -> None:\n",
    "    num_state = 2 ** (2*N+2)\n",
    "    if len(state) != num_state:\n",
    "        raise ValueError()\n",
    "\n",
    "    # store ビットごとの確率に変換 Qiskit では順番が反転していることに注意\n",
    "    store_state = state.reshape(2**N, -1).sum(axis=1)\n",
    "    lines = array_to_latex(store_state, source=True, max_size=num_state+1).split(\"\\n\")\n",
    "    for line in lines:\n",
    "        if \"&\" in line:\n",
    "            x_list = line.split(\" & \")\n",
    "            x_list[-1] = x_list[-1][:-4]  # ends with \"  \\\\\\\\\"\n",
    "            break\n",
    "    if len(x_list) != 2 ** N:\n",
    "        raise ValueError()\n",
    "\n",
    "    # 出力文字列作成\n",
    "    outstr = r\"$\"\n",
    "    second = False\n",
    "    for i in range(len(x_list)):\n",
    "        bin = np.binary_repr(i, width=N)\n",
    "        ind = int(bin[::-1], 2)\n",
    "        if x_list[ind] == \"0\":\n",
    "            continue\n",
    "        if second:\n",
    "            outstr += \" + \"\n",
    "        outstr += x_list[ind] + rf\"\\left|{bin}\\right>\"\n",
    "        second = True\n",
    "    outstr += r\"$\"\n",
    "    display(Latex(outstr))\n",
    "        "
   ]
  },
  {
   "cell_type": "code",
   "execution_count": 7,
   "metadata": {},
   "outputs": [
    {
     "data": {
      "text/latex": [
       "$\\begin{array}{ll}x_{1} = 0.863842 & \\text{bin}: 01101\\\\x_{2} = 0.996027 & \\text{bin}: 01111\\\\x_{3} = 0.050907 & \\text{bin}: 00000\\\\x_{4} = -0.156222 & \\text{bin}: 10010\\\\x_{5} = 0.887218 & \\text{bin}: 01110\\\\x_{6} = 0.742962 & \\text{bin}: 01011\\\\x_{7} = 0.181563 & \\text{bin}: 00010\\\\x_{8} = -0.857701 & \\text{bin}: 11101\\\\\\end{array}$"
      ],
      "text/plain": [
       "<IPython.core.display.Latex object>"
      ]
     },
     "metadata": {},
     "output_type": "display_data"
    },
    {
     "data": {
      "text/latex": [
       "$\\tfrac{1}{\\sqrt{8}}\\left|00000\\right> + \\tfrac{1}{\\sqrt{8}}\\left|00010\\right> + \\tfrac{1}{\\sqrt{8}}\\left|01011\\right> + \\tfrac{1}{\\sqrt{8}}\\left|01101\\right> + \\tfrac{1}{\\sqrt{8}}\\left|01110\\right> + \\tfrac{1}{\\sqrt{8}}\\left|01111\\right> + \\tfrac{1}{\\sqrt{8}}\\left|10010\\right> + \\tfrac{1}{\\sqrt{8}}\\left|11101\\right>$"
      ],
      "text/plain": [
       "<IPython.core.display.Latex object>"
      ]
     },
     "metadata": {},
     "output_type": "display_data"
    }
   ],
   "source": [
    "tmp_str = f\"$\\\\begin{{array}}{{ll}}\"\n",
    "for i in range(M):\n",
    "    tmp_str += f\"x_{{{i+1}}} = {X[i]:.6f} & \\\\text{{bin}}: {binary_encoding(X[i], N)}\\\\\\\\\"\n",
    "display(Latex(tmp_str+f\"\\\\end{{array}}$\"))\n",
    "display_state(qc_state, N)"
   ]
  },
  {
   "cell_type": "markdown",
   "metadata": {},
   "source": [
    "### 観測確率からも確認\n",
    "$x_i (i=1\\dots M)$ に重複があると、 $\\left|0\\right>$ という状態が新たに追加され、挙動がおかしくなるのはこちらも同じ\n",
    "\n",
    "鳩の巣原理を考えると、少なくとも $M > 2^{N}$ とはなってはならないという直感 (でなければ無限の情報量を詰め込めてしまう) は正しそうな気がするが..."
   ]
  },
  {
   "cell_type": "code",
   "execution_count": 8,
   "metadata": {},
   "outputs": [
    {
     "data": {
      "image/png": "[encoded data removed]",
      "text/plain": [
       "<Figure size 504x360 with 1 Axes>"
      ]
     },
     "execution_count": 8,
     "metadata": {},
     "output_type": "execute_result"
    }
   ],
   "source": [
    "qc = input_superposition(X, M, N, True)\n",
    "backend = QasmSimulator()\n",
    "qc_compiled = transpile(qc, backend)\n",
    "job_sim = backend.run(qc_compiled, shots=8192)\n",
    "result_sim = job_sim.result()\n",
    "counts = result_sim.get_counts(qc_compiled)\n",
    "plot_histogram(counts)"
   ]
  }
 ],
 "metadata": {
  "interpreter": {
   "hash": "12f49ba3a463598281409b460afb737ea7d8af6abcaf64bed7fb8a8751760edb"
  },
  "kernelspec": {
   "display_name": "Python 3.7.10 64-bit ('base': conda)",
   "language": "python",
   "name": "python3"
  },
  "language_info": {
   "codemirror_mode": {
    "name": "ipython",
    "version": 3
   },
   "file_extension": ".py",
   "mimetype": "text/x-python",
   "name": "python",
   "nbconvert_exporter": "python",
   "pygments_lexer": "ipython3",
   "version": "3.7.10"
  },
  "orig_nbformat": 4
 },
 "nbformat": 4,
 "nbformat_minor": 2
}
